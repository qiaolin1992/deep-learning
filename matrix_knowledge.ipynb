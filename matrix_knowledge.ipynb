{
 "cells": [
  {
   "cell_type": "markdown",
   "metadata": {},
   "source": [
    "# matrix knowledge"
   ]
  },
  {
   "cell_type": "markdown",
   "metadata": {},
   "source": [
    "1）矩阵的F范数就是矩阵每个值的平方和开根号\n",
    "2）L1经常使用在需要区分0和非零情形中，因为L1是所有元素的绝对值之和\n",
    "3）所有的实矩阵都可以进行奇异值分解（SVD），而特征值分解只对某些方阵可以\n",
    "4)PCA 分解， 计算均值为0的样本的协方差矩阵，然后对该矩阵进行特征值分解，对特征限制从大到小排列，取前N个特征值对应的特征向量与样本呢数据内积dot，实现降维"
   ]
  },
  {
   "cell_type": "code",
   "execution_count": 1,
   "metadata": {},
   "outputs": [],
   "source": [
    "import pandas as pd\n",
    "import numpy as np\n",
    "from sklearn.datasets import load_iris\n",
    "import matplotlib.pyplot as plt\n",
    "from sklearn.preprocessing import StandardScaler"
   ]
  },
  {
   "cell_type": "code",
   "execution_count": 2,
   "metadata": {},
   "outputs": [],
   "source": [
    "iris=load_iris()\n",
    "df=pd.DataFrame(iris.data,columns=iris.feature_names)\n",
    "df['label']=iris.target\n",
    "df.columns=['length1','width1','length2','width2','label']\n",
    "X=df.iloc[:,0:4]\n",
    "y=df.iloc[:,4]"
   ]
  },
  {
   "cell_type": "code",
   "execution_count": 3,
   "metadata": {},
   "outputs": [],
   "source": [
    "class PCA():\n",
    "    def __init__(self):\n",
    "        pass\n",
    "    def fit(self,X,n):\n",
    "        n_samples=np.shape(X)[0]\n",
    "        covariance_matrix=(1/(n_samples-1))*(X-X.mean(axis=0)).T.dot(X-X.mean(axis=0))#get the covariance metrix\n",
    "        eigenvalues,eigenvectors=np.linalg.eig(covariance_matrix)#matrix decomposition\n",
    "        id=eigenvalues.argsort()[::-1]#get tht index sort from biggest to smallest\n",
    "        eigenvalues=eigenvalues[id][:n]\n",
    "        eigenvectors=np.atleast_1d(eigenvectors[:,id])[:,:n]\n",
    "        X_tansform=X.dot(eigenvectors)\n",
    "        return X_tansform"
   ]
  },
  {
   "cell_type": "code",
   "execution_count": 4,
   "metadata": {},
   "outputs": [
    {
     "name": "stdout",
     "output_type": "stream",
     "text": [
      "Y (150, 2)\n"
     ]
    }
   ],
   "source": [
    "model=PCA()\n",
    "Y=model.fit(X,2)\n",
    "print('Y',np.shape(Y))"
   ]
  },
  {
   "cell_type": "code",
   "execution_count": null,
   "metadata": {},
   "outputs": [],
   "source": []
  },
  {
   "cell_type": "code",
   "execution_count": null,
   "metadata": {},
   "outputs": [],
   "source": []
  },
  {
   "cell_type": "code",
   "execution_count": null,
   "metadata": {},
   "outputs": [],
   "source": []
  }
 ],
 "metadata": {
  "kernelspec": {
   "display_name": "Python 3",
   "language": "python",
   "name": "python3"
  },
  "language_info": {
   "codemirror_mode": {
    "name": "ipython",
    "version": 3
   },
   "file_extension": ".py",
   "mimetype": "text/x-python",
   "name": "python",
   "nbconvert_exporter": "python",
   "pygments_lexer": "ipython3",
   "version": "3.7.0"
  }
 },
 "nbformat": 4,
 "nbformat_minor": 2
}
